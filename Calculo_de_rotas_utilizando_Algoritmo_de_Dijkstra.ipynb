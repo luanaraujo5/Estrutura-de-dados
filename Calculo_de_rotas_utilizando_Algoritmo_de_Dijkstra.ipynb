{
  "nbformat": 4,
  "nbformat_minor": 0,
  "metadata": {
    "colab": {
      "name": "Calculo de rotas utilizando Algoritmo de Dijkstra.ipynb",
      "provenance": [],
      "include_colab_link": true
    },
    "kernelspec": {
      "name": "python3",
      "display_name": "Python 3"
    },
    "language_info": {
      "name": "python"
    }
  },
  "cells": [
    {
      "cell_type": "markdown",
      "metadata": {
        "id": "view-in-github",
        "colab_type": "text"
      },
      "source": [
        "<a href=\"https://colab.research.google.com/github/luanaraujo5/Estrutura-de-dados/blob/master/Calculo_de_rotas_utilizando_Algoritmo_de_Dijkstra.ipynb\" target=\"_parent\"><img src=\"https://colab.research.google.com/assets/colab-badge.svg\" alt=\"Open In Colab\"/></a>"
      ]
    },
    {
      "cell_type": "code",
      "source": [
        "# instalando os pacotes necessários (necessário executar apenas uma vez)\n",
        "! pip install osmnx"
      ],
      "metadata": {
        "id": "IFINuHqFyte0"
      },
      "execution_count": null,
      "outputs": []
    },
    {
      "cell_type": "code",
      "execution_count": null,
      "metadata": {
        "id": "twI82MQdyd91"
      },
      "outputs": [],
      "source": [
        "# instalando os pacotes necessários (necessário executar apenas uma vez)\n",
        "! pip install matplotlib==3.1.1"
      ]
    },
    {
      "cell_type": "code",
      "source": [
        "import osmnx as ox\n",
        "import networkx as nx \n",
        "import matplotlib.pyplot as plt\n"
      ],
      "metadata": {
        "id": "9asQP2_yykE9"
      },
      "execution_count": null,
      "outputs": []
    },
    {
      "cell_type": "code",
      "source": [
        "# Carregamos o mapa de Manaus\n",
        "G = ox.graph_from_address('Manaus, Amazonas, Brasil', dist=11000, network_type='drive')\n",
        "\n",
        "# Definimos a origem (lat, long)\n",
        "origin = (-3.12372, -59.94261)\n",
        "\n",
        "# Definimos o destino (lat, long)\n",
        "destination = (-3.13236, -60.01826)\n",
        "\n",
        "# Encontramos o node mais próximo da (lat, long) informado, para a origem e destino\n",
        "origin_node = ox.get_nearest_node(G, origin)\n",
        "destination_node = ox.get_nearest_node(G, destination)\n",
        "\n",
        "# Identificamos a rota mais curta utilizando dijkstra\n",
        "route1 = nx.shortest_path(G, origin_node, destination_node, method='dijkstra', weight='length')\n",
        "\n",
        "# Identificamos uma rota alternativa\n",
        "route2 = nx.shortest_path(G, origin_node, destination_node, method='dijkstra', weight='travel_time')\n",
        "\n",
        "# Apresentamos o mapa com a melhor rota\n",
        "fig, ax = ox.plot_graph_route(G, route1, route_linewidth=6, node_size=0, bgcolor='k')\n",
        "\n",
        "# Apresentamos o mapa com uma rota alternativa\n",
        "fig, ax = ox.plot_graph_route(G, route2, route_linewidth=6, node_size=0, bgcolor='w')\n"
      ],
      "metadata": {
        "id": "4bIi9w5hC3Y6"
      },
      "execution_count": null,
      "outputs": []
    },
    {
      "cell_type": "code",
      "source": [
        "distancia = nx.shortest_path_length(G, origin_node, destination_node, method='dijkstra', weight='length')\n",
        "print('O melhor caminho possui {:0.2f} metros'.format(distancia))\n",
        "\n",
        "tempo = nx.shortest_path_length(G, origin_node, destination_node, method='dijkstra', weight='travel_time')\n",
        "print('O tempo de viagem é de {:n} minutos'.format(tempo))"
      ],
      "metadata": {
        "id": "NzgKvBp8sSNt"
      },
      "execution_count": null,
      "outputs": []
    },
    {
      "cell_type": "markdown",
      "source": [
        ""
      ],
      "metadata": {
        "id": "S2iwdN7UWY0R"
      }
    }
  ]
}