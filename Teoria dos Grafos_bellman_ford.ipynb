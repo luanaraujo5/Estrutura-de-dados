{
  "cells": [
    {
      "cell_type": "markdown",
      "metadata": {
        "id": "view-in-github",
        "colab_type": "text"
      },
      "source": [
        "<a href=\"https://colab.research.google.com/github/luanaraujo5/Estrutura-de-dados/blob/master/Teoria%20dos%20Grafos_bellman_ford.ipynb\" target=\"_parent\"><img src=\"https://colab.research.google.com/assets/colab-badge.svg\" alt=\"Open In Colab\"/></a>"
      ]
    },
    {
      "cell_type": "markdown",
      "metadata": {
        "id": "GJBs_flRovLc"
      },
      "source": [
        "## <strong>Primeiros passos</strong>\n",
        "\n",
        "O documento que você está lendo não é uma página da Web estática, mas sim um ambiente interativo chamado <strong>notebook Colab</strong> que permite escrever e executar código.\n",
        "\n",
        "Por exemplo, aqui está uma <strong>célula de código</strong> com um breve script Python que calcula um valor, armazena-o em uma variável e imprime o resultado:"
      ]
    },
    {
      "cell_type": "code",
      "execution_count": null,
      "metadata": {
        "colab": {
          "base_uri": "https://localhost:8080/",
          "height": 34
        },
        "id": "gJr_9dXGpJ05",
        "outputId": "9f556d03-ec67-4950-a485-cfdba9ddd14d"
      },
      "outputs": [
        {
          "data": {
            "text/plain": [
              "86400"
            ]
          },
          "execution_count": 0,
          "metadata": {
            "tags": []
          },
          "output_type": "execute_result"
        }
      ],
      "source": [
        "seconds_in_a_day = 24 * 60 * 60\n",
        "seconds_in_a_day"
      ]
    },
    {
      "cell_type": "code",
      "source": [
        "# Programa Python3 para fonte única de Bellman-Ford\n",
        "# algoritmo de caminho mais curto.\n",
        "\n",
        "# Classe para representar um gráfico\n",
        "class Graph:\n",
        "\n",
        "\tdef __init__(self, vertices):\n",
        "\t\tself.V = vertices # No. of vertices\n",
        "\t\tself.graph = []\n",
        "\n",
        "\t# função para adicionar uma aresta ao gráfico\n",
        "\tdef addEdge(self, u, v, w):\n",
        "\t\tself.graph.append([u, v, w])\n",
        "\t\t\n",
        "  # função utilitária usada para imprimir a solução\n",
        "\tdef printArr(self, dist):\n",
        "\t\tprint(\"Distância do vértice da fonte\")\n",
        "\t\tfor i in range(self.V):\n",
        "\t\t\tprint(\"{0}\\t\\t{1}\".format(i, dist[i]))\n",
        "\t\n",
        "\t# A função principal que encontra as distâncias mais curtas de src a\n",
        "  # todos os outros vértices usando o algoritmo de Bellman-Ford. A função\n",
        "  # também detecta ciclo de peso negativo\n",
        "\n",
        "\tdef BellmanFord(self, src):\n",
        "\n",
        "\t\t# Passo 1: Inicialize as distâncias de src para todos os outros vértices\n",
        "    # como INFINITO\n",
        "\t\tdist = [float(\"Inf\")] * self.V\n",
        "\t\tdist[src] = 0\n",
        "\n",
        "\n",
        "\t# Passo 2: Relaxe todas as arestas |V| - 1 vezes. Um simples mais curto\n",
        "  # caminho de src para qualquer outro vértice pode ter no máximo |V| - 1\n",
        "  # arestas\n",
        "\t\tfor _ in range(self.V - 1):\n",
        "\t\t# Atualiza o valor dist e o índice pai dos vértices adjacentes de\n",
        "    # o vértice escolhido. Considere apenas os vértices que ainda estão em\n",
        "    # fila\n",
        "\t\t\tfor u, v, w in self.graph:\n",
        "\t\t\t\tif dist[u] != float(\"Inf\") and dist[u] + w < dist[v]:\n",
        "\t\t\t\t\t\tdist[v] = dist[u] + w\n",
        "\n",
        "\t# Etapa 3: verifique se há ciclos de peso negativo. O passo acima\n",
        "  # garante distâncias mais curtas se o gráfico não contiver\n",
        "  #  ciclo de peso negativo. Se conseguirmos um caminho mais curto, então\n",
        "  # é um ciclo.\n",
        "\n",
        "\t\tfor u, v, w in self.graph:\n",
        "\t\t\t\tif dist[u] != float(\"Inf\") and dist[u] + w < dist[v]:\n",
        "\t\t\t\t\t\tprint(\"Graph contains negative weight cycle\")\n",
        "\t\t\t\t\t\treturn\n",
        "\t\t\t\t\t\t\n",
        "\t\t\n",
        "  # Imprime a solução\n",
        "\t\tself.printArr(dist)\n",
        "\n",
        "g = Graph(5)\n",
        "g.addEdge(0, 1, -1)\n",
        "g.addEdge(0, 2, 4)\n",
        "g.addEdge(1, 2, 3)\n",
        "g.addEdge(1, 3, 2)\n",
        "g.addEdge(1, 4, 2)\n",
        "g.addEdge(3, 2, 5)\n",
        "g.addEdge(3, 1, 1)\n",
        "g.addEdge(4, 3, -3)\n",
        "\n",
        "\n",
        "g.BellmanFord(0)"
      ],
      "metadata": {
        "id": "P7t9ABraBx3a",
        "outputId": "2a23ca3e-0b4b-4e28-f7f9-d91b31e320e8",
        "colab": {
          "base_uri": "https://localhost:8080/"
        }
      },
      "execution_count": 22,
      "outputs": [
        {
          "output_type": "stream",
          "name": "stdout",
          "text": [
            "Distância do vértice da fonte\n",
            "0\t\t0\n",
            "1\t\t-1\n",
            "2\t\t2\n",
            "3\t\t-2\n",
            "4\t\t1\n"
          ]
        }
      ]
    }
  ],
  "metadata": {
    "colab": {
      "collapsed_sections": [],
      "name": "Olá, este é o Colaboratory",
      "toc_visible": true,
      "provenance": [],
      "include_colab_link": true
    },
    "kernelspec": {
      "display_name": "Python 3",
      "name": "python3"
    }
  },
  "nbformat": 4,
  "nbformat_minor": 0
}